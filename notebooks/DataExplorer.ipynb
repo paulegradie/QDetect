{
 "cells": [
  {
   "cell_type": "markdown",
   "metadata": {},
   "source": [
    "# Data"
   ]
  },
  {
   "cell_type": "code",
   "execution_count": 4,
   "metadata": {},
   "outputs": [],
   "source": [
    "import pickle\n",
    "import pandas as pd\n",
    "from collections import Counter\n",
    "\n",
    "with open('../models/single_layer_biLSTM/data_container_30msl.generator.pkl', 'rb') as fi:\n",
    "    data = pickle.load(fi)"
   ]
  },
  {
   "cell_type": "code",
   "execution_count": 5,
   "metadata": {},
   "outputs": [
    {
     "name": "stdout",
     "output_type": "stream",
     "text": [
      "\n",
      "--DATASET METADATA --\n",
      "description: None\n",
      "embedding_dims: 50\n",
      "max_elements: 3\n",
      "max_index: 20310\n",
      "max_num_questions: 1\n",
      "max_seq_length: 30\n",
      "vocab_size: 20311\n"
     ]
    }
   ],
   "source": [
    "data.display_metadata()"
   ]
  },
  {
   "cell_type": "code",
   "execution_count": 12,
   "metadata": {},
   "outputs": [
    {
     "data": {
      "text/plain": [
       "['_create_test_set_',\n",
       " 'description_meta',\n",
       " 'display_metadata',\n",
       " 'embedding_dims_meta',\n",
       " 'index2word',\n",
       " 'max_elements_meta',\n",
       " 'max_index_meta',\n",
       " 'max_num_questions_meta',\n",
       " 'max_seq_length_meta',\n",
       " 'non_questions',\n",
       " 'questions',\n",
       " 'randomize_num_questions',\n",
       " 'show_random_sample_of_data',\n",
       " 'test_features',\n",
       " 'test_labels',\n",
       " 'vectors',\n",
       " 'vocab',\n",
       " 'vocab_size_meta',\n",
       " 'word2index']"
      ]
     },
     "execution_count": 12,
     "metadata": {},
     "output_type": "execute_result"
    }
   ],
   "source": [
    "[x for x in dir(data) if not x.startswith('__')]"
   ]
  },
  {
   "cell_type": "code",
   "execution_count": 13,
   "metadata": {},
   "outputs": [
    {
     "ename": "TypeError",
     "evalue": "show_random_sample_of_data() got an unexpected keyword argument 'words'",
     "output_type": "error",
     "traceback": [
      "\u001b[1;31m---------------------------------------------------------------------------\u001b[0m",
      "\u001b[1;31mTypeError\u001b[0m                                 Traceback (most recent call last)",
      "\u001b[1;32m<ipython-input-13-e8d36b7f42c8>\u001b[0m in \u001b[0;36m<module>\u001b[1;34m()\u001b[0m\n\u001b[1;32m----> 1\u001b[1;33m \u001b[0mdata\u001b[0m\u001b[1;33m.\u001b[0m\u001b[0mshow_random_sample_of_data\u001b[0m\u001b[1;33m(\u001b[0m\u001b[1;36m2\u001b[0m\u001b[1;33m,\u001b[0m \u001b[0mwords\u001b[0m\u001b[1;33m=\u001b[0m\u001b[1;32mTrue\u001b[0m\u001b[1;33m,\u001b[0m \u001b[0mmini\u001b[0m\u001b[1;33m=\u001b[0m\u001b[1;32mFalse\u001b[0m\u001b[1;33m)\u001b[0m\u001b[1;33m\u001b[0m\u001b[0m\n\u001b[0m",
      "\u001b[1;31mTypeError\u001b[0m: show_random_sample_of_data() got an unexpected keyword argument 'words'"
     ]
    }
   ],
   "source": [
    "data.show_random_sample_of_data(2, words=True, mini=False)"
   ]
  },
  {
   "cell_type": "markdown",
   "metadata": {},
   "source": [
    "## vocab analysis"
   ]
  },
  {
   "cell_type": "code",
   "execution_count": 14,
   "metadata": {},
   "outputs": [],
   "source": [
    "vocab = \" \".join([\" \".join(data.questions), \" \".join(data.non_questions)])"
   ]
  },
  {
   "cell_type": "code",
   "execution_count": 15,
   "metadata": {},
   "outputs": [],
   "source": [
    "from collections import Counter"
   ]
  },
  {
   "cell_type": "code",
   "execution_count": 16,
   "metadata": {},
   "outputs": [],
   "source": [
    "word_count = Counter(list(vocab.split()))"
   ]
  },
  {
   "cell_type": "code",
   "execution_count": 17,
   "metadata": {},
   "outputs": [],
   "source": [
    "words = [x[0] for x in word_count.most_common()]\n",
    "counts = [x[1] for x in word_count.most_common()]"
   ]
  },
  {
   "cell_type": "code",
   "execution_count": 18,
   "metadata": {},
   "outputs": [],
   "source": [
    "import matplotlib.pyplot as plt\n",
    "%matplotlib inline\n",
    "from matplotlib import rcParams\n"
   ]
  },
  {
   "cell_type": "code",
   "execution_count": 22,
   "metadata": {},
   "outputs": [
    {
     "data": {
      "text/plain": [
       "Text(0.5,1,'Frequency of words, ordered from most frequent to least frequent')"
      ]
     },
     "execution_count": 22,
     "metadata": {},
     "output_type": "execute_result"
    },
    {
     "data": {
      "image/png": "[encoded data removed]",
      "text/plain": [
       "<Figure size 1152x576 with 1 Axes>"
      ]
     },
     "metadata": {},
     "output_type": "display_data"
    }
   ],
   "source": [
    "_, ax = plt.subplots(figsize=(16, 8))\n",
    "plt.plot([x[0] for x in enumerate(words[:1000])], counts[:1000]);\n",
    "plt.ylim((0, 10000));\n",
    "plt.title(\"Frequency of words, ordered from most frequent to least frequent\")"
   ]
  },
  {
   "cell_type": "markdown",
   "metadata": {},
   "source": [
    "#### Analyze Generator behavior"
   ]
  },
  {
   "cell_type": "code",
   "execution_count": null,
   "metadata": {},
   "outputs": [],
   "source": [
    "import pickle\n",
    "import pandas as pd\n",
    "import numpy as np\n",
    "from collections import Counter\n",
    "\n",
    "with open('../models/vanilla/data_container_30msl.generator.pkl', 'rb') as fi:\n",
    "    data = pickle.load(fi)"
   ]
  },
  {
   "cell_type": "markdown",
   "metadata": {},
   "source": [
    "#### Check Outputs"
   ]
  },
  {
   "cell_type": "code",
   "execution_count": null,
   "metadata": {},
   "outputs": [],
   "source": [
    "from backend.preprocess import GeneratorInputFn\n",
    "from backend.container import Appender_"
   ]
  },
  {
   "cell_type": "code",
   "execution_count": null,
   "metadata": {},
   "outputs": [],
   "source": [
    "kwargs = {\n",
    "    'questions': data.questions,\n",
    "    'non_questions': data.non_questions,\n",
    "    'word2index':  data.word2index,\n",
    "    'max_seq_length':  30,\n",
    "    'max_num_questions':  1,\n",
    "    'max_num_elements':  3,\n",
    "    'randomize_num_questions': False\n",
    " }"
   ]
  },
  {
   "cell_type": "code",
   "execution_count": null,
   "metadata": {},
   "outputs": [],
   "source": [
    "gen = GeneratorInputFn().generate(**kwargs)\n",
    "app = Appender_()"
   ]
  },
  {
   "cell_type": "markdown",
   "metadata": {},
   "source": [
    "#### Test generator outputs"
   ]
  },
  {
   "cell_type": "code",
   "execution_count": null,
   "metadata": {},
   "outputs": [],
   "source": [
    "dat = list()\n",
    "for i in range(500):\n",
    "\n",
    "    feat, lab = next(gen)\n",
    "    dat.append(feat[1])\n",
    "    print(feat[0])\n",
    "#     break\n",
    "    \n",
    "#     feature = len(feat[0]), len(feat[1]), len(feat[2]), len(feat[3])\n",
    "#     label = len(lab[0]), len(lab[1]), len(lab[2])\n",
    "#     app.append(feature, label)\n",
    "print(max(dat))\n",
    "# feature_counts, label_counts = app.export_data()"
   ]
  },
  {
   "cell_type": "code",
   "execution_count": null,
   "metadata": {},
   "outputs": [],
   "source": [
    "# len(data.test_features[1])\n",
    "print(max(data.test_features[1]))\n"
   ]
  },
  {
   "cell_type": "markdown",
   "metadata": {},
   "source": [
    "#### Test Generator v2  - multiprocessing addon"
   ]
  },
  {
   "cell_type": "code",
   "execution_count": 10,
   "metadata": {},
   "outputs": [],
   "source": [
    "import pickle\n",
    "import pandas as pd\n",
    "import numpy as np\n",
    "from collections import Counter\n",
    "from multiprocessing import Process, Queue\n",
    "from time import sleep\n",
    "from backend.preprocess import GeneratorInputV2\n",
    "from backend.utils import convert_int2word"
   ]
  },
  {
   "cell_type": "code",
   "execution_count": 11,
   "metadata": {},
   "outputs": [],
   "source": [
    "with open('../models/vanilla_single_layer_enc/data_container_30msl.generator.pkl', 'rb') as fi:\n",
    "    data = pickle.load(fi)"
   ]
  },
  {
   "cell_type": "code",
   "execution_count": 12,
   "metadata": {},
   "outputs": [],
   "source": [
    "kwargs = {\n",
    "    'questions': data.questions,\n",
    "    'non_questions': data.non_questions,\n",
    "    'Q_size': 100,\n",
    "    'num_proc': 2,\n",
    "    'word2index':  data.word2index,\n",
    "    'max_seq_length':  30,\n",
    "    'max_num_questions':  1,\n",
    "    'max_num_elements':  3,\n",
    "    'randomize_num_questions': False\n",
    " }"
   ]
  },
  {
   "cell_type": "code",
   "execution_count": 13,
   "metadata": {},
   "outputs": [
    {
     "name": "stdout",
     "output_type": "stream",
     "text": [
      "Initializing generator\n",
      "Process started\n",
      "Queues initializing...3 of 100\n",
      "Queues initializing...63 of 100\n"
     ]
    }
   ],
   "source": [
    "gen_obj = GeneratorInputV2(**kwargs)  # This should take max a few seconds to prefill the queue"
   ]
  },
  {
   "cell_type": "code",
   "execution_count": 14,
   "metadata": {},
   "outputs": [
    {
     "name": "stdout",
     "output_type": "stream",
     "text": [
      "True\n",
      "0\n"
     ]
    }
   ],
   "source": [
    "print(gen_obj.feature_que.full())\n",
    "print(gen_obj.queues_length)"
   ]
  },
  {
   "cell_type": "code",
   "execution_count": 15,
   "metadata": {},
   "outputs": [],
   "source": [
    "generator = gen_obj.from_queue_generator()"
   ]
  },
  {
   "cell_type": "code",
   "execution_count": 19,
   "metadata": {},
   "outputs": [
    {
     "name": "stdout",
     "output_type": "stream",
     "text": [
      "\n",
      "input: no no just the left side does she mean when we have evolved into the borg godel heinsberg kant mind blown thanks for your answer\n",
      "target: does she mean when we have evolved into the borg\n",
      "\n",
      "\n",
      "input: zizek against the double blackmail is are there a civic religions in western europe brains are easy compared to minds\n",
      "target: is are there a civic religions in western europe\n",
      "\n",
      "\n",
      "input: <UNK> thank you is that a fair interpretation of your answer for the record im not the <UNK>\n",
      "target: is that a fair interpretation of your answer\n",
      "\n",
      "\n",
      "input: what kind of police officer desk officers trainers yeah and definitely philosophy isnt a programming language let us continue this discussion in <UNK>\n",
      "target: what kind of police officer desk officers trainers\n",
      "\n",
      "\n",
      "input: apologies if too broad any tips totally welcome this is the form of the argument either p or q is it really about ethics\n",
      "target: is it really about ethics\n",
      "\n",
      "\n",
      "input: if he has an answer see this <UNK> for some details regarding <UNK> visit to cuba sometimes by turning its back to it\n",
      "target: if he has an answer\n",
      "\n",
      "\n",
      "input: does free will exist of science in general youre going to have to pick one hey <UNK> ive added the source material\n",
      "target: does free will exist\n",
      "\n",
      "\n",
      "input: what do you mean by early developments gordon haha i surely will sorry i dont see your point\n",
      "target: what do you mean by early developments\n",
      "\n",
      "\n",
      "input: <UNK> how do you claim carneades as a physical reductionist let us continue this discussion in <UNK> and neologisms dont help googling\n",
      "target: <UNK> how do you claim carneades as a physical reductionist\n",
      "\n",
      "\n",
      "input: we do not squirtle typo of course how to explain that democracy isnt totality\n",
      "target: how to explain that democracy isnt totality\n",
      "\n"
     ]
    }
   ],
   "source": [
    "for _ in range(10):\n",
    "    x, y = next(generator)\n",
    "    print()\n",
    "    print('input: {}'.format(\" \".join(convert_int2word(data.index2word, x[0]))))\n",
    "    print(\"target: {}\".format(\" \".join(convert_int2word(data.index2word, y[0]))))\n",
    "    print()"
   ]
  }
 ],
 "metadata": {
  "kernelspec": {
   "display_name": "Python 3",
   "language": "python",
   "name": "python3"
  },
  "language_info": {
   "codemirror_mode": {
    "name": "ipython",
    "version": 3
   },
   "file_extension": ".py",
   "mimetype": "text/x-python",
   "name": "python",
   "nbconvert_exporter": "python",
   "pygments_lexer": "ipython3",
   "version": "3.5.5"
  }
 },
 "nbformat": 4,
 "nbformat_minor": 2
}
