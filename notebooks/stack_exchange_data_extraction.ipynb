{
 "cells": [
  {
   "cell_type": "markdown",
   "metadata": {},
   "source": [
    "## Preprocess raw Stack Exchange data and save to local"
   ]
  },
  {
   "cell_type": "markdown",
   "metadata": {},
   "source": [
    "Download from:\n",
    "https://archive.org/details/stackexchange\n",
    "\n",
    "- comes in *.tar.7z\n",
    "- you can download 7zip from their downloads page for linux\n",
    "- you can unzip using bzip2\n",
    "- you can run 7z binary, for example: `p7zip_16.02/bin/7z e philosophy.stackexchange.com.7z`"
   ]
  },
  {
   "cell_type": "code",
   "execution_count": 1,
   "metadata": {},
   "outputs": [
    {
     "name": "stdout",
     "output_type": "stream",
     "text": [
      " Volume in drive C is DeepRig main drive\n",
      " Volume Serial Number is C6E6-9713\n",
      "\n",
      " Directory of C:\\Users\\paule\\code\\machine_learning_implementations\\question_filter_network\\notebooks\n",
      "\n",
      "11/03/2018  02:17 PM    <DIR>          .\n",
      "11/03/2018  02:17 PM    <DIR>          ..\n",
      "11/02/2018  11:42 PM    <DIR>          .ipynb_checkpoints\n",
      "10/28/2018  11:57 PM            78,361 DataExplorer.ipynb\n",
      "11/03/2018  01:08 AM            20,426 Eager_model_notebook.ipynb\n",
      "10/20/2018  01:18 PM               723 Eager_notebook.py\n",
      "10/28/2018  10:10 AM            14,397 Normal_model_notebook.ipynb\n",
      "10/20/2018  01:18 PM             8,249 Normal_model_notebook.py\n",
      "11/01/2018  08:29 PM            13,031 Prediction_test_notebook.ipynb\n",
      "10/20/2018  01:18 PM            10,046 Question_extraction.py\n",
      "10/20/2018  01:18 PM             1,984 Question_extraction-Attention1.py\n",
      "11/03/2018  02:17 PM           118,289 stack_exchange_data_extraction.ipynb\n",
      "10/20/2018  01:18 PM             1,656 stack_exchange_data_extraction.py\n",
      "              10 File(s)        267,162 bytes\n",
      "               3 Dir(s)  98,231,799,808 bytes free\n"
     ]
    }
   ],
   "source": [
    "ls"
   ]
  },
  {
   "cell_type": "code",
   "execution_count": 2,
   "metadata": {},
   "outputs": [
    {
     "name": "stdout",
     "output_type": "stream",
     "text": [
      "C:\\Users\\paule\\code\\machine_learning_implementations\\question_filter_network\\data\n"
     ]
    }
   ],
   "source": [
    "cd ../data"
   ]
  },
  {
   "cell_type": "code",
   "execution_count": 3,
   "metadata": {},
   "outputs": [],
   "source": [
    "import os\n",
    "import warnings\n",
    "from random import shuffle\n",
    "import xml.etree.ElementTree as ET\n",
    "warnings.filterwarnings(\"ignore\", category=UserWarning, module='bs4')\n",
    "\n",
    "from backend.parse_stack_exchange import (parse_xml_doc,\n",
    "                                          remove_html,\n",
    "                                          strip_and_lower,\n",
    "                                          process_text,\n",
    "                                          write_data)\n",
    "\n",
    "import matplotlib.pyplot as plt\n",
    "%matplotlib inline"
   ]
  },
  {
   "cell_type": "code",
   "execution_count": 4,
   "metadata": {},
   "outputs": [],
   "source": [
    "xmls = {'Badges.xml': None,\n",
    "        'Comments.xml': 'Text',\n",
    "        'PostHistory.xml': None,\n",
    "        'PostLinks.xml': None,\n",
    "        'Posts.xml': 'Title',\n",
    "        'Tags.xml': None,\n",
    "        'Users.xml': None,\n",
    "        'Votes.xml': None}\n",
    "stack_dir = os.path.join('.', 'stack_exchange')\n",
    "stack_list= ['monero.stackexchange.com',\n",
    "             'movies.stackexchange.com',\n",
    "             'philosophy.stackexchange.com',\n",
    "             'politics.stackexchange.com']"
   ]
  },
  {
   "cell_type": "markdown",
   "metadata": {},
   "source": [
    "# Data Exploration"
   ]
  },
  {
   "cell_type": "markdown",
   "metadata": {},
   "source": [
    "## Philosophy"
   ]
  },
  {
   "cell_type": "markdown",
   "metadata": {},
   "source": [
    "#### POSTS"
   ]
  },
  {
   "cell_type": "code",
   "execution_count": 5,
   "metadata": {},
   "outputs": [],
   "source": [
    "def parse_xml_doc(file_path, attribute_name='Text'):\n",
    "    \" return a list of all the text sentences from xml \"\n",
    "    tree = ET.parse(file_path)\n",
    "    root = tree.getroot()\n",
    "    texts = list()\n",
    "    count = 0\n",
    "    for child in root:\n",
    "        try:\n",
    "            texts.append(child.attrib[attribute_name])\n",
    "            count += 1\n",
    "        except:\n",
    "            pass\n",
    "    return texts, count"
   ]
  },
  {
   "cell_type": "code",
   "execution_count": 6,
   "metadata": {},
   "outputs": [
    {
     "data": {
      "text/plain": [
       "'.\\\\stack_exchange\\\\philosophy.stackexchange.com\\\\Posts.xml'"
      ]
     },
     "execution_count": 6,
     "metadata": {},
     "output_type": "execute_result"
    }
   ],
   "source": [
    "posts_path = os.path.join(stack_dir, stack_list[2],'Posts.xml')\n",
    "posts_path"
   ]
  },
  {
   "cell_type": "code",
   "execution_count": 7,
   "metadata": {},
   "outputs": [],
   "source": [
    "post_titles, num_titles = parse_xml_doc(posts_path, 'Title')\n",
    "post_bodies, num_bodies = parse_xml_doc(posts_path, 'Body')  # needs html removed first"
   ]
  },
  {
   "cell_type": "code",
   "execution_count": 8,
   "metadata": {},
   "outputs": [
    {
     "data": {
      "text/plain": [
       "['<p>What would it mean to say that mathematics was invented and how would this be different from saying mathematics was discovered? </p>\\n\\n<p>Is this even a serious philosophical question or just a meaningless/tautological linguistic ambiguity?</p>\\n',\n",
       " '<p><a href=\"http://area51.stackexchange.com/proposals/2578/philosophy/7211#7211\">One of our definition questions</a> particularly intrigued me.</p>\\n\\n<p>If a man were committing suicide by jumping off a building and you shot him on the way down, killing him, are you culpable for his death?</p>\\n\\n<p>Legally you may or may not be, depending on the jurisdiction.  But what would the philosophical underpinnings of such a law be?  It could be viewed as a mercy killing, in a way, but is it distinct from assisted suicide (and how)?  What else is there to consider?</p>\\n\\n<p><strong>Edit:</strong> Assume the man would die on impact. \"Well he might live\" gets too far away from the intended discussion.</p>\\n',\n",
       " '<p>\"<a href=\"http://en.wikipedia.org/wiki/Intuitionism\">Intuitionists</a>\" believe that mathematics is just a creation of the human mind. In that sense you can argue that mathematics is invented by humans. Any mathematical object exists only in our mind and don\\'t as such have an existence.</p>\\n\\n<p>\"<a href=\"http://en.wikipedia.org/wiki/Platonism\">Platonists</a>\", on the other hand, argue that any mathematical object exists and we can only \"see\" them through our mind. Hence in some sense Platonists would vote that mathematics was discovered.</p>\\n']"
      ]
     },
     "execution_count": 8,
     "metadata": {},
     "output_type": "execute_result"
    }
   ],
   "source": [
    "post_bodies[:3]"
   ]
  },
  {
   "cell_type": "code",
   "execution_count": 9,
   "metadata": {},
   "outputs": [
    {
     "data": {
      "text/plain": [
       "(10974, 37602)"
      ]
     },
     "execution_count": 9,
     "metadata": {},
     "output_type": "execute_result"
    }
   ],
   "source": [
    "num_titles, num_bodies"
   ]
  },
  {
   "cell_type": "code",
   "execution_count": 36,
   "metadata": {},
   "outputs": [
    {
     "name": "stderr",
     "output_type": "stream",
     "text": [
      "c:\\users\\paule\\code\\machine_learning_implementations\\question_filter_network\\backend\\parse_stack_exchange.py:66: UserWarning: No parser was explicitly specified, so I'm using the best available HTML parser for this system (\"html5lib\"). This usually isn't a problem, but if you run this code on another system, or in a different virtual environment, it may use a different parser and behave differently.\n",
      "\n",
      "The code that caused this warning is on line 66 of the file c:\\users\\paule\\code\\machine_learning_implementations\\question_filter_network\\backend\\parse_stack_exchange.py. To get rid of this warning, pass the additional argument 'features=\"html5lib\"' to the BeautifulSoup constructor.\n",
      "\n",
      "  text = BeautifulSoup(text).get_text()\n"
     ]
    }
   ],
   "source": [
    "preprocessed_titles = [remove_html(x) for x in post_titles]\n",
    "stripped_and_lowered_titles = [strip_and_lower(x) for x in preprocessed_titles]\n",
    "prepard_question_titles = process_text(stripped_and_lowered_titles, get_questions=True)\n",
    "prepard_non_question_titles = process_text(stripped_and_lowered_titles, get_questions=False)"
   ]
  },
  {
   "cell_type": "code",
   "execution_count": 44,
   "metadata": {},
   "outputs": [
    {
     "data": {
      "text/plain": [
       "['was mathematics invented or discovered',\n",
       " 'if you kill someone who is committing suicide are you culpable for his death',\n",
       " 'is atheism a requirement for a consistent existentialist philosophy',\n",
       " 'if we value free agency how can punishment the states deprivation of a persons free agency be justified',\n",
       " 'whats the difference between randian philosophy and objectivism']"
      ]
     },
     "execution_count": 44,
     "metadata": {},
     "output_type": "execute_result"
    }
   ],
   "source": [
    "prepard_question_titles[:5]"
   ]
  },
  {
   "cell_type": "code",
   "execution_count": 43,
   "metadata": {},
   "outputs": [
    {
     "data": {
      "text/plain": [
       "['a reference for understanding current trends in epistemology',\n",
       " 'resolution of the contradictory definitions of lawful and chaotic in dungeons and dragons',\n",
       " 'resolving weighting conflicts in preference utilitarianism',\n",
       " 'gods paradoxes and their implications',\n",
       " 'existence of an intelligible physical world beyond the mind']"
      ]
     },
     "execution_count": 43,
     "metadata": {},
     "output_type": "execute_result"
    }
   ],
   "source": [
    "prepard_non_question_titles[:5]"
   ]
  },
  {
   "cell_type": "code",
   "execution_count": 40,
   "metadata": {},
   "outputs": [
    {
     "data": {
      "image/png": "[encoded data removed]",
      "text/plain": [
       "<Figure size 432x288 with 1 Axes>"
      ]
     },
     "metadata": {},
     "output_type": "display_data"
    }
   ],
   "source": [
    "title_question_length_dist = [len(x.split()) for x in prepard_question_titles]\n",
    "plt.hist(title_question_length_dist, bins=20, alpha=0.6, label='question');\n",
    "plt.title(\"Comment length distribution\");\n",
    "\n",
    "title_non_question_length_dist = [len(x.split()) for x in prepard_non_question_titles]\n",
    "plt.hist(title_non_question_length_dist, bins=20, alpha=0.6, label='non question');\n",
    "plt.title('Comment non question length distribution');\n",
    "plt.legend();"
   ]
  },
  {
   "cell_type": "code",
   "execution_count": 32,
   "metadata": {},
   "outputs": [
    {
     "data": {
      "text/plain": [
       "['what is philosophy',\n",
       " 'what is postmodernism',\n",
       " 'did kuhn recant',\n",
       " 'motivations for dialetheism',\n",
       " 'is perfection conceivable',\n",
       " 'or does he',\n",
       " 'does time exist',\n",
       " 'bookspiecesessays about selfworth',\n",
       " 'in computer science',\n",
       " 'is philosophy formalisable',\n",
       " 'was einstein a philosopher',\n",
       " 'when is violence appropriate',\n",
       " 'was rorty a relativist',\n",
       " 'pantheism panentheism other combinations',\n",
       " 'is illogical not logical',\n",
       " 'do traditionalists still exist',\n",
       " 'what is mathematical existence',\n",
       " 'are there token events',\n",
       " 'what is an existentialist',\n",
       " 'was aristotle an empiricist',\n",
       " 'was mathematics invented or discovered',\n",
       " 'arguments foragainst tolerance against intolerance',\n",
       " 'is a language its dictionary',\n",
       " 'can something infinite be absolute',\n",
       " 'does happiness motivate every action']"
      ]
     },
     "execution_count": 32,
     "metadata": {},
     "output_type": "execute_result"
    }
   ],
   "source": [
    "sorted(prepard_question_titles[:500], key=lambda x: len(x.split()))[:25]"
   ]
  },
  {
   "cell_type": "markdown",
   "metadata": {},
   "source": [
    "#### COMMENTS"
   ]
  },
  {
   "cell_type": "code",
   "execution_count": 15,
   "metadata": {},
   "outputs": [
    {
     "data": {
      "text/plain": [
       "'.\\\\stack_exchange\\\\philosophy.stackexchange.com\\\\Comments.xml'"
      ]
     },
     "execution_count": 15,
     "metadata": {},
     "output_type": "execute_result"
    }
   ],
   "source": [
    "comment_path = os.path.join(stack_dir, stack_list[2], 'Comments.xml')\n",
    "comment_path"
   ]
  },
  {
   "cell_type": "code",
   "execution_count": 16,
   "metadata": {},
   "outputs": [
    {
     "data": {
      "text/plain": [
       "97567"
      ]
     },
     "execution_count": 16,
     "metadata": {},
     "output_type": "execute_result"
    }
   ],
   "source": [
    "comments, num_comments = parse_xml_doc(comment_path, 'Text')\n",
    "num_comments"
   ]
  },
  {
   "cell_type": "code",
   "execution_count": 34,
   "metadata": {},
   "outputs": [
    {
     "name": "stderr",
     "output_type": "stream",
     "text": [
      "c:\\users\\paule\\code\\machine_learning_implementations\\question_filter_network\\backend\\parse_stack_exchange.py:66: UserWarning: No parser was explicitly specified, so I'm using the best available HTML parser for this system (\"html5lib\"). This usually isn't a problem, but if you run this code on another system, or in a different virtual environment, it may use a different parser and behave differently.\n",
      "\n",
      "The code that caused this warning is on line 66 of the file c:\\users\\paule\\code\\machine_learning_implementations\\question_filter_network\\backend\\parse_stack_exchange.py. To get rid of this warning, pass the additional argument 'features=\"html5lib\"' to the BeautifulSoup constructor.\n",
      "\n",
      "  text = BeautifulSoup(text).get_text()\n"
     ]
    }
   ],
   "source": [
    "preprocessed_comments = [remove_html(x) for x in comments]\n",
    "stripped_and_lowered_comments = [strip_and_lower(x) for x in preprocessed_comments]\n",
    "\n",
    "prepard_questions_comments = process_text(stripped_and_lowered_comments, get_questions=True)\n",
    "prepared_non_questions_comments = process_text(stripped_and_lowered_comments, get_questions=False)"
   ]
  },
  {
   "cell_type": "code",
   "execution_count": 35,
   "metadata": {},
   "outputs": [
    {
     "data": {
      "image/png": "[encoded data removed]",
      "text/plain": [
       "<Figure size 432x288 with 1 Axes>"
      ]
     },
     "metadata": {},
     "output_type": "display_data"
    }
   ],
   "source": [
    "comment_question_length_dist = [len(x.split()) for x in prepard_questions_comments]\n",
    "comment_non_question_length_dist = [len(x.split()) for x in prepared_non_questions_comments]\n",
    "\n",
    "plt.hist(comment_question_length_dist, bins=120, alpha=0.6, label='question');\n",
    "plt.title(\"Comment length distribution\");\n",
    "\n",
    "plt.hist(comment_non_question_length_dist, bins=120, alpha=0.6, label='non question');\n",
    "plt.title('Comment non question length distribution');\n",
    "plt.legend();"
   ]
  },
  {
   "cell_type": "markdown",
   "metadata": {},
   "source": [
    "### Data collection"
   ]
  },
  {
   "cell_type": "code",
   "execution_count": 45,
   "metadata": {},
   "outputs": [
    {
     "data": {
      "text/plain": [
       "['was mathematics invented or discovered',\n",
       " 'if you kill someone who is committing suicide are you culpable for his death',\n",
       " 'is atheism a requirement for a consistent existentialist philosophy',\n",
       " 'if we value free agency how can punishment the states deprivation of a persons free agency be justified',\n",
       " 'whats the difference between randian philosophy and objectivism',\n",
       " 'what is the difference between necessary and sufficient',\n",
       " 'how does one know one is not dreaming',\n",
       " 'what is philosophy',\n",
       " 'which philosophy forces others to act altruistically',\n",
       " 'what are the main points of criticism of the ancient stoic school visavis the system of philosophy of the epicureans']"
      ]
     },
     "execution_count": 45,
     "metadata": {},
     "output_type": "execute_result"
    }
   ],
   "source": [
    "prepard_question_titles[:10]"
   ]
  },
  {
   "cell_type": "code",
   "execution_count": 46,
   "metadata": {},
   "outputs": [
    {
     "data": {
      "text/plain": [
       "['is this implying that by virtue of a government giving agency to a person it is culpable for the actions of said person',\n",
       " 'what of the argument that youre culpable for shooting him but his death was already determined and thus you cant be culpable for it',\n",
       " 'if we say that ending it 5 seconds earlier does not count then what about 10 seconds a minute a day a year',\n",
       " 'but why does speeding up death make you culpable and is there really no difference between a split second and hours',\n",
       " 'of course are you telling me that doctors are allowed to ease someone into death by initiating a morphine drip ensuring that they die a peaceful painless death',\n",
       " 'could you provide a synopsis showing the actual contrasting areas',\n",
       " 'yes the underlying issue is is killing someone who is about to die really killing is it murder right',\n",
       " 'ok i try again i also add if a mathematical discovery hasnt yet been discovered does it exist really no',\n",
       " 'how is this a philosophical question',\n",
       " 'why do you think its against the law to kill someone']"
      ]
     },
     "execution_count": 46,
     "metadata": {},
     "output_type": "execute_result"
    }
   ],
   "source": [
    "prepard_questions_comments[:10]"
   ]
  },
  {
   "cell_type": "code",
   "execution_count": 47,
   "metadata": {},
   "outputs": [
    {
     "data": {
      "text/plain": [
       "['emansipater i am not an expert on this topic all i can refer to is probably wiki which i have now added',\n",
       " 'topics in advanced number theory noneuclidean geometry kolmogorov complexity and many other branches of mathematics were certainly not invented as a way to deal with concrete things in a more practical manner',\n",
       " 'from that i can see that objectivism was not originated by rand but it doesnt really answer my question and its better to post answers with content rather than links',\n",
       " 'good enough for my upvotei just want readers to realise these are specific schools of thought with defined characteristics',\n",
       " 'im sure its assumed to be a skyscraper you and emansipater are saying the same thing essentially',\n",
       " 'ive edited the question',\n",
       " 'lennart fair point',\n",
       " 'the difference between these concepts is important to logical thinking it would be good if someone could offer a nice clear answer to this',\n",
       " 'not entirely true as it could be proven that something exists cogito ergo sum at least',\n",
       " 'wizlog i dont think we are talking about the legal matter of this question laws are different in every country law and ethics are different things']"
      ]
     },
     "execution_count": 47,
     "metadata": {},
     "output_type": "execute_result"
    }
   ],
   "source": [
    "prepared_non_questions_comments[:10]"
   ]
  },
  {
   "cell_type": "code",
   "execution_count": 50,
   "metadata": {},
   "outputs": [
    {
     "data": {
      "text/plain": [
       "(33762, 41076)"
      ]
     },
     "execution_count": 50,
     "metadata": {},
     "output_type": "execute_result"
    }
   ],
   "source": [
    "len(prepard_question_titles) + len(prepard_questions_comments), len(prepared_non_questions_comments)"
   ]
  },
  {
   "cell_type": "code",
   "execution_count": 52,
   "metadata": {},
   "outputs": [],
   "source": [
    "all_questions = sorted(prepard_question_titles + prepard_questions_comments, key=lambda x: len(x.split()))\n",
    "all_non_questions = sorted(prepared_non_questions_comments, key=lambda x: len(x.split()))[:min(len(all_questions), len(prepared_non_questions_comments))]"
   ]
  },
  {
   "cell_type": "code",
   "execution_count": 53,
   "metadata": {},
   "outputs": [
    {
     "data": {
      "text/plain": [
       "(33762, 33762)"
      ]
     },
     "execution_count": 53,
     "metadata": {},
     "output_type": "execute_result"
    }
   ],
   "source": [
    "len(all_questions), len(all_non_questions)"
   ]
  },
  {
   "cell_type": "code",
   "execution_count": 56,
   "metadata": {},
   "outputs": [
    {
     "data": {
      "image/png": "[encoded data removed]",
      "text/plain": [
       "<Figure size 432x288 with 1 Axes>"
      ]
     },
     "metadata": {},
     "output_type": "display_data"
    }
   ],
   "source": [
    "plt.hist([len(x.split()) for x in all_questions], bins=50, alpha=0.6, label='question');\n",
    "plt.title(\"Question length distribution\");\n",
    "\n",
    "plt.hist([len(x.split()) for x in all_non_questions], bins=50, alpha=0.6, label='non question');\n",
    "plt.title('non question length distribution');\n",
    "plt.legend();"
   ]
  },
  {
   "cell_type": "code",
   "execution_count": 60,
   "metadata": {},
   "outputs": [],
   "source": [
    "len_filtered_questions = list(\n",
    "    filter(lambda x: len(x.split()) <= 30, all_questions)\n",
    ")\n",
    "len_filtered_non_questions = list(\n",
    "    filter(lambda x: len(x.split()) <=30, all_non_questions)\n",
    ")"
   ]
  },
  {
   "cell_type": "code",
   "execution_count": 61,
   "metadata": {},
   "outputs": [
    {
     "data": {
      "image/png": "[encoded data removed]",
      "text/plain": [
       "<Figure size 432x288 with 1 Axes>"
      ]
     },
     "metadata": {},
     "output_type": "display_data"
    }
   ],
   "source": [
    "plt.hist([len(x.split()) for x in len_filtered_questions], bins=50, alpha=0.6, label='question');\n",
    "plt.title(\"Question length distribution\");\n",
    "\n",
    "plt.hist([len(x.split()) for x in len_filtered_non_questions], bins=50, alpha=0.6, label='non question');\n",
    "plt.title('non question length distribution');\n",
    "plt.legend();"
   ]
  },
  {
   "cell_type": "code",
   "execution_count": 63,
   "metadata": {},
   "outputs": [
    {
     "data": {
      "text/plain": [
       "(29526, 21728)"
      ]
     },
     "execution_count": 63,
     "metadata": {},
     "output_type": "execute_result"
    }
   ],
   "source": [
    "len(len_filtered_questions), len(len_filtered_non_questions)  # slightly unbalanced"
   ]
  },
  {
   "cell_type": "code",
   "execution_count": 64,
   "metadata": {},
   "outputs": [],
   "source": [
    "shuffle(len_filtered_questions)\n",
    "shuffle(len_filtered_non_questions)"
   ]
  },
  {
   "cell_type": "code",
   "execution_count": null,
   "metadata": {},
   "outputs": [],
   "source": [
    "# equalize list lengths\n",
    "non_questions = non_questions[:len(questions)]"
   ]
  },
  {
   "cell_type": "code",
   "execution_count": 65,
   "metadata": {},
   "outputs": [],
   "source": [
    "write_data(len_filtered_questions, len_filtered_non_questions)"
   ]
  },
  {
   "cell_type": "code",
   "execution_count": null,
   "metadata": {},
   "outputs": [],
   "source": []
  }
 ],
 "metadata": {
  "kernelspec": {
   "display_name": "Python 3",
   "language": "python",
   "name": "python3"
  },
  "language_info": {
   "codemirror_mode": {
    "name": "ipython",
    "version": 3
   },
   "file_extension": ".py",
   "mimetype": "text/x-python",
   "name": "python",
   "nbconvert_exporter": "python",
   "pygments_lexer": "ipython3",
   "version": "3.5.5"
  }
 },
 "nbformat": 4,
 "nbformat_minor": 2
}
